{
 "cells": [
  {
   "cell_type": "markdown",
   "metadata": {},
   "source": [
    "IMPORT LIBRARIES"
   ]
  },
  {
   "cell_type": "code",
   "execution_count": 1,
   "metadata": {},
   "outputs": [],
   "source": [
    "import pandas as pds\n",
    "import numpy as np\n",
    "import matplotlib.pyplot as plt\n"
   ]
  },
  {
   "cell_type": "markdown",
   "metadata": {},
   "source": [
    "LOAD DATASET"
   ]
  },
  {
   "cell_type": "code",
   "execution_count": 2,
   "metadata": {},
   "outputs": [
    {
     "data": {
      "text/html": [
       "<div>\n",
       "<style scoped>\n",
       "    .dataframe tbody tr th:only-of-type {\n",
       "        vertical-align: middle;\n",
       "    }\n",
       "\n",
       "    .dataframe tbody tr th {\n",
       "        vertical-align: top;\n",
       "    }\n",
       "\n",
       "    .dataframe thead th {\n",
       "        text-align: right;\n",
       "    }\n",
       "</style>\n",
       "<table border=\"1\" class=\"dataframe\">\n",
       "  <thead>\n",
       "    <tr style=\"text-align: right;\">\n",
       "      <th></th>\n",
       "      <th>Unnamed: 0</th>\n",
       "      <th>Area</th>\n",
       "      <th>Item</th>\n",
       "      <th>Year</th>\n",
       "      <th>hg/ha_yield</th>\n",
       "      <th>average_rain_fall_mm_per_year</th>\n",
       "      <th>pesticides_tonnes</th>\n",
       "      <th>avg_temp</th>\n",
       "    </tr>\n",
       "  </thead>\n",
       "  <tbody>\n",
       "    <tr>\n",
       "      <th>0</th>\n",
       "      <td>0</td>\n",
       "      <td>Albania</td>\n",
       "      <td>Maize</td>\n",
       "      <td>1990</td>\n",
       "      <td>36613</td>\n",
       "      <td>1485.0</td>\n",
       "      <td>121.00</td>\n",
       "      <td>16.37</td>\n",
       "    </tr>\n",
       "    <tr>\n",
       "      <th>1</th>\n",
       "      <td>1</td>\n",
       "      <td>Albania</td>\n",
       "      <td>Potatoes</td>\n",
       "      <td>1990</td>\n",
       "      <td>66667</td>\n",
       "      <td>1485.0</td>\n",
       "      <td>121.00</td>\n",
       "      <td>16.37</td>\n",
       "    </tr>\n",
       "    <tr>\n",
       "      <th>2</th>\n",
       "      <td>2</td>\n",
       "      <td>Albania</td>\n",
       "      <td>Rice, paddy</td>\n",
       "      <td>1990</td>\n",
       "      <td>23333</td>\n",
       "      <td>1485.0</td>\n",
       "      <td>121.00</td>\n",
       "      <td>16.37</td>\n",
       "    </tr>\n",
       "    <tr>\n",
       "      <th>3</th>\n",
       "      <td>3</td>\n",
       "      <td>Albania</td>\n",
       "      <td>Sorghum</td>\n",
       "      <td>1990</td>\n",
       "      <td>12500</td>\n",
       "      <td>1485.0</td>\n",
       "      <td>121.00</td>\n",
       "      <td>16.37</td>\n",
       "    </tr>\n",
       "    <tr>\n",
       "      <th>4</th>\n",
       "      <td>4</td>\n",
       "      <td>Albania</td>\n",
       "      <td>Soybeans</td>\n",
       "      <td>1990</td>\n",
       "      <td>7000</td>\n",
       "      <td>1485.0</td>\n",
       "      <td>121.00</td>\n",
       "      <td>16.37</td>\n",
       "    </tr>\n",
       "    <tr>\n",
       "      <th>...</th>\n",
       "      <td>...</td>\n",
       "      <td>...</td>\n",
       "      <td>...</td>\n",
       "      <td>...</td>\n",
       "      <td>...</td>\n",
       "      <td>...</td>\n",
       "      <td>...</td>\n",
       "      <td>...</td>\n",
       "    </tr>\n",
       "    <tr>\n",
       "      <th>28237</th>\n",
       "      <td>28237</td>\n",
       "      <td>Zimbabwe</td>\n",
       "      <td>Rice, paddy</td>\n",
       "      <td>2013</td>\n",
       "      <td>22581</td>\n",
       "      <td>657.0</td>\n",
       "      <td>2550.07</td>\n",
       "      <td>19.76</td>\n",
       "    </tr>\n",
       "    <tr>\n",
       "      <th>28238</th>\n",
       "      <td>28238</td>\n",
       "      <td>Zimbabwe</td>\n",
       "      <td>Sorghum</td>\n",
       "      <td>2013</td>\n",
       "      <td>3066</td>\n",
       "      <td>657.0</td>\n",
       "      <td>2550.07</td>\n",
       "      <td>19.76</td>\n",
       "    </tr>\n",
       "    <tr>\n",
       "      <th>28239</th>\n",
       "      <td>28239</td>\n",
       "      <td>Zimbabwe</td>\n",
       "      <td>Soybeans</td>\n",
       "      <td>2013</td>\n",
       "      <td>13142</td>\n",
       "      <td>657.0</td>\n",
       "      <td>2550.07</td>\n",
       "      <td>19.76</td>\n",
       "    </tr>\n",
       "    <tr>\n",
       "      <th>28240</th>\n",
       "      <td>28240</td>\n",
       "      <td>Zimbabwe</td>\n",
       "      <td>Sweet potatoes</td>\n",
       "      <td>2013</td>\n",
       "      <td>22222</td>\n",
       "      <td>657.0</td>\n",
       "      <td>2550.07</td>\n",
       "      <td>19.76</td>\n",
       "    </tr>\n",
       "    <tr>\n",
       "      <th>28241</th>\n",
       "      <td>28241</td>\n",
       "      <td>Zimbabwe</td>\n",
       "      <td>Wheat</td>\n",
       "      <td>2013</td>\n",
       "      <td>22888</td>\n",
       "      <td>657.0</td>\n",
       "      <td>2550.07</td>\n",
       "      <td>19.76</td>\n",
       "    </tr>\n",
       "  </tbody>\n",
       "</table>\n",
       "<p>28242 rows × 8 columns</p>\n",
       "</div>"
      ],
      "text/plain": [
       "       Unnamed: 0      Area            Item  Year  hg/ha_yield  \\\n",
       "0               0   Albania           Maize  1990        36613   \n",
       "1               1   Albania        Potatoes  1990        66667   \n",
       "2               2   Albania     Rice, paddy  1990        23333   \n",
       "3               3   Albania         Sorghum  1990        12500   \n",
       "4               4   Albania        Soybeans  1990         7000   \n",
       "...           ...       ...             ...   ...          ...   \n",
       "28237       28237  Zimbabwe     Rice, paddy  2013        22581   \n",
       "28238       28238  Zimbabwe         Sorghum  2013         3066   \n",
       "28239       28239  Zimbabwe        Soybeans  2013        13142   \n",
       "28240       28240  Zimbabwe  Sweet potatoes  2013        22222   \n",
       "28241       28241  Zimbabwe           Wheat  2013        22888   \n",
       "\n",
       "       average_rain_fall_mm_per_year  pesticides_tonnes  avg_temp  \n",
       "0                             1485.0             121.00     16.37  \n",
       "1                             1485.0             121.00     16.37  \n",
       "2                             1485.0             121.00     16.37  \n",
       "3                             1485.0             121.00     16.37  \n",
       "4                             1485.0             121.00     16.37  \n",
       "...                              ...                ...       ...  \n",
       "28237                          657.0            2550.07     19.76  \n",
       "28238                          657.0            2550.07     19.76  \n",
       "28239                          657.0            2550.07     19.76  \n",
       "28240                          657.0            2550.07     19.76  \n",
       "28241                          657.0            2550.07     19.76  \n",
       "\n",
       "[28242 rows x 8 columns]"
      ]
     },
     "execution_count": 2,
     "metadata": {},
     "output_type": "execute_result"
    }
   ],
   "source": [
    "dataSet = pds.read_csv(r\"\"E:\\farmwise forecast\\FarmWise-Forecast-\\yield_df.csv\"\")\n",
    "dataSet"
   ]
  },
  {
   "cell_type": "markdown",
   "metadata": {},
   "source": []
  },
  {
   "cell_type": "markdown",
   "metadata": {},
   "source": [
    "CLEANING DATASET"
   ]
  },
  {
   "cell_type": "code",
   "execution_count": 3,
   "metadata": {},
   "outputs": [
    {
     "data": {
      "text/plain": [
       "0            0\n",
       "1            1\n",
       "2            2\n",
       "3            3\n",
       "4            4\n",
       "         ...  \n",
       "28237    28237\n",
       "28238    28238\n",
       "28239    28239\n",
       "28240    28240\n",
       "28241    28241\n",
       "Name: Unnamed: 0, Length: 28242, dtype: int64"
      ]
     },
     "execution_count": 3,
     "metadata": {},
     "output_type": "execute_result"
    }
   ],
   "source": [
    "#remove \"Unnnamed\" it does not have any significance\n",
    "dataSet.pop(\"Unnamed: 0\")\n"
   ]
  },
  {
   "cell_type": "code",
   "execution_count": 4,
   "metadata": {},
   "outputs": [
    {
     "name": "stdout",
     "output_type": "stream",
     "text": [
      "      Area         Item  Year  hg/ha_yield  average_rain_fall_mm_per_year  \\\n",
      "0  Albania        Maize  1990        36613                         1485.0   \n",
      "1  Albania     Potatoes  1990        66667                         1485.0   \n",
      "2  Albania  Rice, paddy  1990        23333                         1485.0   \n",
      "3  Albania      Sorghum  1990        12500                         1485.0   \n",
      "4  Albania     Soybeans  1990         7000                         1485.0   \n",
      "\n",
      "   pesticides_tonnes  avg_temp  \n",
      "0              121.0     16.37  \n",
      "1              121.0     16.37  \n",
      "2              121.0     16.37  \n",
      "3              121.0     16.37  \n",
      "4              121.0     16.37  \n"
     ]
    }
   ],
   "source": [
    "#REMOVED UNNAMED COLUMN\n",
    "print(dataSet.head())\n"
   ]
  },
  {
   "cell_type": "markdown",
   "metadata": {},
   "source": [
    "EXPLORATORY DATA ANALYSIS"
   ]
  },
  {
   "cell_type": "code",
   "execution_count": 5,
   "metadata": {},
   "outputs": [
    {
     "name": "stdout",
     "output_type": "stream",
     "text": [
      "Area\n",
      "India         4048\n",
      "Brazil        2277\n",
      "Mexico        1472\n",
      "Pakistan      1449\n",
      "Japan          966\n",
      "              ... \n",
      "Estonia         42\n",
      "Belgium         39\n",
      "Bahrain         29\n",
      "Sudan           28\n",
      "Montenegro      24\n",
      "Name: count, Length: 101, dtype: int64\n"
     ]
    }
   ],
   "source": [
    "country_series =dataSet['Area'].value_counts() \n",
    "print(country_series)"
   ]
  },
  {
   "cell_type": "markdown",
   "metadata": {},
   "source": [
    "There are countries that have less than 150 rows  of data and others with over a 200+ rows, remove those other countries\n"
   ]
  },
  {
   "cell_type": "code",
   "execution_count": 6,
   "metadata": {},
   "outputs": [
    {
     "name": "stdout",
     "output_type": "stream",
     "text": [
      "Countries having less than 150 entries: \n",
      "['Suriname', 'Romania', 'Libya', 'Portugal', 'Bulgaria', 'France', 'Hungary', 'Senegal', 'Ukraine', 'Tajikistan', 'Guyana', 'Azerbaijan', 'Nepal', 'Algeria', 'Croatia', 'Mauritius', 'Albania', 'Austria', 'Malaysia', 'Lesotho', 'New Zealand', 'Switzerland', 'Lebanon', 'Slovenia', 'Namibia', 'Eritrea', 'Poland', 'Netherlands', 'Tunisia', 'Qatar', 'Bahamas', 'Botswana', 'Belarus', 'Lithuania', 'Armenia', 'Denmark', 'Sweden', 'Norway', 'Finland', 'Ireland', 'Latvia', 'Estonia', 'Belgium', 'Bahrain', 'Sudan', 'Montenegro']\n",
      "46\n"
     ]
    }
   ],
   "source": [
    "drop_list = country_series[country_series < 150].index.tolist()\n",
    "print(\"Countries having less than 150 entries: \")\n",
    "print(drop_list) #countries less than 150 row count\n",
    "print(len(drop_list))#number of countries with less than 150 rows"
   ]
  },
  {
   "cell_type": "markdown",
   "metadata": {},
   "source": [
    "Filtered dataset"
   ]
  },
  {
   "cell_type": "code",
   "execution_count": 7,
   "metadata": {},
   "outputs": [
    {
     "name": "stdout",
     "output_type": "stream",
     "text": [
      "Area\n",
      "India         4048\n",
      "Brazil        2277\n",
      "Mexico        1472\n",
      "Pakistan      1449\n",
      "Japan          966\n",
      "              ... \n",
      "Estonia         42\n",
      "Belgium         39\n",
      "Bahrain         29\n",
      "Sudan           28\n",
      "Montenegro      24\n",
      "Name: count, Length: 101, dtype: int64\n",
      "\n",
      "Dataset after removing entries  with area row count less than 150: \n",
      "Area\n",
      "India                       4048\n",
      "Brazil                      2277\n",
      "Mexico                      1472\n",
      "Pakistan                    1449\n",
      "Japan                        966\n",
      "Australia                    966\n",
      "Indonesia                    828\n",
      "South Africa                 644\n",
      "Turkey                       625\n",
      "Ecuador                      621\n",
      "Canada                       552\n",
      "Spain                        483\n",
      "Colombia                     414\n",
      "Dominican Republic           368\n",
      "Argentina                    368\n",
      "Egypt                        322\n",
      "Italy                        322\n",
      "Morocco                      322\n",
      "Bangladesh                   294\n",
      "Iraq                         276\n",
      "Germany                      270\n",
      "Kazakhstan                   252\n",
      "Kenya                        230\n",
      "United Kingdom               230\n",
      "Chile                        230\n",
      "Cameroon                     230\n",
      "Uganda                       207\n",
      "Mali                         207\n",
      "Burundi                      207\n",
      "Peru                         207\n",
      "Rwanda                       207\n",
      "Honduras                     204\n",
      "Guatemala                    204\n",
      "Madagascar                   184\n",
      "Saudi Arabia                 184\n",
      "Haiti                        184\n",
      "Sri Lanka                    184\n",
      "El Salvador                  184\n",
      "Zambia                       184\n",
      "Burkina Faso                 184\n",
      "Zimbabwe                     184\n",
      "Nicaragua                    183\n",
      "Malawi                       171\n",
      "Guinea                       171\n",
      "Angola                       164\n",
      "Papua New Guinea             161\n",
      "Niger                        161\n",
      "Mozambique                   161\n",
      "Thailand                     161\n",
      "Mauritania                   161\n",
      "Greece                       161\n",
      "Uruguay                      161\n",
      "Central African Republic     161\n",
      "Jamaica                      161\n",
      "Ghana                        155\n",
      "Name: count, dtype: int64\n"
     ]
    }
   ],
   "source": [
    "filtered_df = dataSet[~dataSet['Area'].isin(drop_list)]\n",
    "print(dataSet[\"Area\"].value_counts(), end= \"\\n\\n\")\n",
    "\n",
    "print(\"Dataset after removing entries  with area row count less than 150: \")\n",
    "\n",
    "print(filtered_df[\"Area\"].value_counts())"
   ]
  },
  {
   "cell_type": "code",
   "execution_count": 8,
   "metadata": {},
   "outputs": [
    {
     "name": "stdout",
     "output_type": "stream",
     "text": [
      "           Area            Item  Year  hg/ha_yield  \\\n",
      "213      Angola         Cassava  1990        41177   \n",
      "214      Angola           Maize  1990         2736   \n",
      "215      Angola        Potatoes  1990        40000   \n",
      "216      Angola     Rice, paddy  1990         9512   \n",
      "217      Angola  Sweet potatoes  1990        89342   \n",
      "...         ...             ...   ...          ...   \n",
      "28237  Zimbabwe     Rice, paddy  2013        22581   \n",
      "28238  Zimbabwe         Sorghum  2013         3066   \n",
      "28239  Zimbabwe        Soybeans  2013        13142   \n",
      "28240  Zimbabwe  Sweet potatoes  2013        22222   \n",
      "28241  Zimbabwe           Wheat  2013        22888   \n",
      "\n",
      "       average_rain_fall_mm_per_year  pesticides_tonnes  avg_temp  \n",
      "213                           1010.0              64.00     24.12  \n",
      "214                           1010.0              64.00     24.12  \n",
      "215                           1010.0              64.00     24.12  \n",
      "216                           1010.0              64.00     24.12  \n",
      "217                           1010.0              64.00     24.12  \n",
      "...                              ...                ...       ...  \n",
      "28237                          657.0            2550.07     19.76  \n",
      "28238                          657.0            2550.07     19.76  \n",
      "28239                          657.0            2550.07     19.76  \n",
      "28240                          657.0            2550.07     19.76  \n",
      "28241                          657.0            2550.07     19.76  \n",
      "\n",
      "[24267 rows x 7 columns]\n"
     ]
    }
   ],
   "source": [
    "print(filtered_df)"
   ]
  },
  {
   "cell_type": "markdown",
   "metadata": {},
   "source": [
    "Now copy the filtered dataframe into variable df"
   ]
  },
  {
   "cell_type": "code",
   "execution_count": 9,
   "metadata": {},
   "outputs": [
    {
     "name": "stdout",
     "output_type": "stream",
     "text": [
      "           Area            Item  Year  hg/ha_yield  \\\n",
      "0        Angola         Cassava  1990        41177   \n",
      "1        Angola           Maize  1990         2736   \n",
      "2        Angola        Potatoes  1990        40000   \n",
      "3        Angola     Rice, paddy  1990         9512   \n",
      "4        Angola  Sweet potatoes  1990        89342   \n",
      "...         ...             ...   ...          ...   \n",
      "24262  Zimbabwe     Rice, paddy  2013        22581   \n",
      "24263  Zimbabwe         Sorghum  2013         3066   \n",
      "24264  Zimbabwe        Soybeans  2013        13142   \n",
      "24265  Zimbabwe  Sweet potatoes  2013        22222   \n",
      "24266  Zimbabwe           Wheat  2013        22888   \n",
      "\n",
      "       average_rain_fall_mm_per_year  pesticides_tonnes  avg_temp  \n",
      "0                             1010.0              64.00     24.12  \n",
      "1                             1010.0              64.00     24.12  \n",
      "2                             1010.0              64.00     24.12  \n",
      "3                             1010.0              64.00     24.12  \n",
      "4                             1010.0              64.00     24.12  \n",
      "...                              ...                ...       ...  \n",
      "24262                          657.0            2550.07     19.76  \n",
      "24263                          657.0            2550.07     19.76  \n",
      "24264                          657.0            2550.07     19.76  \n",
      "24265                          657.0            2550.07     19.76  \n",
      "24266                          657.0            2550.07     19.76  \n",
      "\n",
      "[24267 rows x 7 columns]\n"
     ]
    }
   ],
   "source": [
    "df = filtered_df.reset_index(drop=True)\n",
    "#we reset indices because some rows are removed\n",
    "print(df)"
   ]
  },
  {
   "cell_type": "code",
   "execution_count": 10,
   "metadata": {},
   "outputs": [],
   "source": [
    "datacopy = df.copy() #Making a Copy\n",
    "\n",
    "#Converting Categories to Numbers\n",
    "from sklearn.preprocessing import LabelEncoder as Le\n",
    "\n",
    "cat_columns = datacopy.select_dtypes(include=['object']).columns.tolist()\n",
    "\n",
    "#Updating the DataFrame\n",
    "for i in cat_columns:\n",
    "    datacopy[i] = Le().fit_transform(datacopy[i])\n"
   ]
  },
  {
   "cell_type": "markdown",
   "metadata": {},
   "source": [
    "MODEL TRAINING"
   ]
  },
  {
   "cell_type": "code",
   "execution_count": 11,
   "metadata": {},
   "outputs": [],
   "source": [
    "from sklearn.model_selection import train_test_split\n",
    "from sklearn.metrics import mean_squared_error, r2_score\n",
    "\n",
    "\n",
    "X, y = datacopy.drop(labels='hg/ha_yield', axis=1), datacopy['hg/ha_yield']\n",
    "X_train, X_test, y_train, y_test = train_test_split(X, y, test_size=0.3, random_state=42)"
   ]
  },
  {
   "cell_type": "markdown",
   "metadata": {},
   "source": [
    "1. Linear Legression"
   ]
  },
  {
   "cell_type": "code",
   "execution_count": 12,
   "metadata": {},
   "outputs": [
    {
     "name": "stdout",
     "output_type": "stream",
     "text": [
      "Accuracy: 7.717726969105221\n",
      "Mean Squared Error: 6259666179.004309\n",
      "R2 score: 0.07717726969105221\n"
     ]
    }
   ],
   "source": [
    "from sklearn.linear_model import LinearRegression\n",
    "\n",
    "\n",
    "# Create an instance of LinearRegression\n",
    "lr_model = LinearRegression()\n",
    "\n",
    "# Fit the model on training data\n",
    "lr_model.fit(X_train, y_train)\n",
    "\n",
    "# Predict output for test data\n",
    "y_predict = lr_model.predict(X_test)\n",
    "\n",
    "# Calculate accuracy in percentage\n",
    "acc_linear_regression = lr_model.score(X_test, y_test)*100\n",
    "\n",
    "# Calculate Mean Squared Error (MSE)\n",
    "MSError = mean_squared_error(y_test, y_predict)\n",
    "\n",
    "# Calculate R2 score\n",
    "R2_score = r2_score(y_test, y_predict)\n",
    "\n",
    "print(\"Accuracy:\", acc_linear_regression)\n",
    "print(\"Mean Squared Error:\", MSError)\n",
    "print(\"R2 score:\", R2_score)\n"
   ]
  },
  {
   "cell_type": "markdown",
   "metadata": {},
   "source": [
    "2. KNN model"
   ]
  },
  {
   "cell_type": "code",
   "execution_count": 13,
   "metadata": {},
   "outputs": [
    {
     "name": "stdout",
     "output_type": "stream",
     "text": [
      "Accuracy: 31.210798041898123\n",
      "Mean Squared Error: 4666090537.601621\n",
      "R2 score: 0.31210798041898125\n"
     ]
    }
   ],
   "source": [
    "from sklearn.neighbors import KNeighborsRegressor\n",
    "\n",
    "# Create an instance of KNeighborsRegressor\n",
    "knn_model = KNeighborsRegressor(n_neighbors=5)  # You can adjust the number of neighbors as per your choice\n",
    "\n",
    "# Fit the model on training data\n",
    "knn_model.fit(X_train, y_train)\n",
    "\n",
    "# Predict output for test data\n",
    "y_predict = knn_model.predict(X_test)\n",
    "\n",
    "# Calculate accuracy in percentage\n",
    "acc_knn = knn_model.score(X_test, y_test)*100\n",
    "\n",
    "# Calculate Mean Squared Error (MSE)\n",
    "MSError = mean_squared_error(y_test, y_predict)\n",
    "\n",
    "# Calculate R2 score\n",
    "R2_score = r2_score(y_test, y_predict)\n",
    "\n",
    "print(\"Accuracy:\", acc_knn)\n",
    "print(\"Mean Squared Error:\", MSError)\n",
    "print(\"R2 score:\", R2_score)\n"
   ]
  },
  {
   "cell_type": "markdown",
   "metadata": {},
   "source": [
    "3. Random Forest"
   ]
  },
  {
   "cell_type": "code",
   "execution_count": 14,
   "metadata": {},
   "outputs": [
    {
     "name": "stdout",
     "output_type": "stream",
     "text": [
      "Accuracy: 99.07811928676213\n",
      "Mean Squared Error: 62532763.142922774\n",
      "R2 score: 0.9907811928676213\n"
     ]
    }
   ],
   "source": [
    "from sklearn.ensemble import RandomForestRegressor\n",
    "\n",
    "# Create an instance of RandomForestRegressor\n",
    "random_forest_model = RandomForestRegressor(n_estimators=100, random_state=42)  # You can adjust the number of estimators as per your choice\n",
    "\n",
    "# Fit the model on training data\n",
    "random_forest_model.fit(X_train, y_train)\n",
    "\n",
    "# Predict output for test data\n",
    "y_predict = random_forest_model.predict(X_test)\n",
    "\n",
    "# Calculate accuracy in percentage\n",
    "acc_random_forest = random_forest_model.score(X_test, y_test) * 100\n",
    "\n",
    "# Calculate Mean Squared Error (MSE)\n",
    "MSError = mean_squared_error(y_test, y_predict)\n",
    "\n",
    "# Calculate R2 score\n",
    "R2_score = r2_score(y_test, y_predict)\n",
    "\n",
    "print(\"Accuracy:\", acc_random_forest)\n",
    "print(\"Mean Squared Error:\", MSError)\n",
    "print(\"R2 score:\", R2_score)\n"
   ]
  },
  {
   "cell_type": "markdown",
   "metadata": {},
   "source": [
    "4. Bagging Regressor"
   ]
  },
  {
   "cell_type": "code",
   "execution_count": 15,
   "metadata": {},
   "outputs": [
    {
     "name": "stdout",
     "output_type": "stream",
     "text": [
      "Accuracy: 99.07432910260333\n",
      "Mean Squared Error: 62789857.88941931\n",
      "R2 score: 0.9907432910260333\n"
     ]
    }
   ],
   "source": [
    "from sklearn.ensemble  import BaggingRegressor\n",
    "\n",
    "# Create an instance of BaggingRegressor\n",
    "bagging_regressor_model = BaggingRegressor(n_estimators=100, random_state=42)  \n",
    "\n",
    "# Fit the model on training data\n",
    "bagging_regressor_model.fit(X_train, y_train)\n",
    "\n",
    "# Predict output for test data\n",
    "y_predict = bagging_regressor_model.predict(X_test)\n",
    "\n",
    "# Calculate accuracy in percentage\n",
    "acc_BaggingRegressor = bagging_regressor_model.score(X_test, y_test) * 100\n",
    "\n",
    "# Calculate Mean Squared Error (MSE)\n",
    "MSError = mean_squared_error(y_test, y_predict)\n",
    "\n",
    "# Calculate R2 score\n",
    "R2_score = r2_score(y_test, y_predict)\n",
    "\n",
    "print(\"Accuracy:\", acc_BaggingRegressor)\n",
    "print(\"Mean Squared Error:\", MSError)\n",
    "print(\"R2 score:\", R2_score)\n"
   ]
  },
  {
   "cell_type": "markdown",
   "metadata": {},
   "source": [
    "5. Logistic Regression"
   ]
  },
  {
   "cell_type": "markdown",
   "metadata": {},
   "source": [
    "PLOTTING GRAPHS OF ACCURACY"
   ]
  },
  {
   "cell_type": "code",
   "execution_count": 16,
   "metadata": {},
   "outputs": [
    {
     "data": {
      "image/png": "[encoded data removed]",
      "text/plain": [
       "<Figure size 1000x600 with 1 Axes>"
      ]
     },
     "metadata": {},
     "output_type": "display_data"
    },
    {
     "data": {
      "text/plain": [
       "['random_forest_model.pkl']"
      ]
     },
     "execution_count": 16,
     "metadata": {},
     "output_type": "execute_result"
    }
   ],
   "source": [
    "import matplotlib.pyplot as plt\n",
    "\n",
    "# List of model names and their accuracies\n",
    "model_names = ['Linear Regression', 'KNN', 'Random Forest', 'Bagging Regressor']\n",
    "accuracies = [acc_linear_regression, acc_knn, acc_random_forest, acc_BaggingRegressor]  \n",
    "\n",
    "# Plotting the accuracies\n",
    "plt.figure(figsize=(10, 6))\n",
    "bars = plt.bar(model_names, accuracies, color=['red', 'orange', 'green', 'lightgreen'])\n",
    "plt.title('Accuracy of ML Models', fontweight = 'bold')\n",
    "plt.xlabel('Model', fontweight = 'bold')\n",
    "plt.ylabel('Accuracy (%)', fontweight = 'bold')\n",
    "plt.ylim(0, 100)\n",
    "\n",
    "# Adding text labels for accuracy on top of each bar with bold font\n",
    "for bar, acc in zip(bars, accuracies):\n",
    "    plt.text(bar.get_x() + bar.get_width() / 2, bar.get_height(), f'{acc:.2f}%', \n",
    "             ha='center', va='bottom', weight='bold')  # Set weight to 'bold'\n",
    "\n",
    "plt.show()\n",
    "\n",
    "import joblib\n",
    "joblib.dump(random_forest_model, 'random_forest_model.pkl')\n"
   ]
  },
  {
   "cell_type": "markdown",
   "metadata": {},
   "source": [
    "Random forest regressor has the highest accuracy of all other models with an accuracy of 99.08% \n",
    "Hence we use RANDOM FOREST regressor for our Prediction"
   ]
  },
  {
   "cell_type": "markdown",
   "metadata": {},
   "source": [
    "PREDICTION"
   ]
  },
  {
   "cell_type": "markdown",
   "metadata": {},
   "source": [
    "1. Using Bagging regressor model"
   ]
  },
  {
   "cell_type": "code",
   "execution_count": 17,
   "metadata": {},
   "outputs": [
    {
     "name": "stdout",
     "output_type": "stream",
     "text": [
      "Predicted yield: 61927.79 hg/ha_yield\n"
     ]
    }
   ],
   "source": [
    "random_data = {\n",
    "    'Area': [10],\n",
    "    'Item': [3],\n",
    "    'Year': [2022],\n",
    "    'average_rain_fall_mm_per_year': [800],\n",
    "    'pesticides_tonnes': [50],\n",
    "    'avg_temp': [25]\n",
    "}\n",
    "random_df = pds.DataFrame(random_data)\n",
    "predictions = bagging_regressor_model.predict(random_df)\n",
    "\n",
    "print(\"Predicted yield:\", round(predictions[0],2), \"hg/ha_yield\")\n"
   ]
  },
  {
   "cell_type": "markdown",
   "metadata": {},
   "source": [
    "2. Random forest model"
   ]
  },
  {
   "cell_type": "code",
   "execution_count": 18,
   "metadata": {},
   "outputs": [
    {
     "name": "stdout",
     "output_type": "stream",
     "text": [
      "Predicted yield: 69046.31 hg/ha_yield\n"
     ]
    }
   ],
   "source": [
    "random_data = {\n",
    "    'Area': [11],\n",
    "    'Item': [3],\n",
    "    'Year': [2022],\n",
    "    'average_rain_fall_mm_per_year': [800],\n",
    "    'pesticides_tonnes': [50],\n",
    "    'avg_temp': [25]\n",
    "}\n",
    "random_df = pds.DataFrame(random_data)\n",
    "predictions = random_forest_model.predict(random_df)\n",
    "\n",
    "print(\"Predicted yield:\", round(predictions[0],2), \"hg/ha_yield\")\n"
   ]
  },
  {
   "cell_type": "code",
   "execution_count": 19,
   "metadata": {},
   "outputs": [],
   "source": [
    "import pickle\n",
    "\n",
    "# Assuming your trained model object is named 'model'\n",
    "# Replace 'model' with your actual trained model object\n",
    "# Train your model here or load it from a saved file\n",
    "# model = random_forest_model\n",
    "\n",
    "\n",
    "# pickle.dump(model, open('random_forest_model.pkl', 'wb'))"
   ]
  },
  {
   "cell_type": "code",
   "execution_count": null,
   "metadata": {},
   "outputs": [],
   "source": []
  },
  {
   "cell_type": "markdown",
   "metadata": {},
   "source": [
    "ROUGH"
   ]
  }
 ],
 "metadata": {
  "kernelspec": {
   "display_name": "Python 3",
   "language": "python",
   "name": "python3"
  },
  "language_info": {
   "codemirror_mode": {
    "name": "ipython",
    "version": 3
   },
   "file_extension": ".py",
   "mimetype": "text/x-python",
   "name": "python",
   "nbconvert_exporter": "python",
   "pygments_lexer": "ipython3",
   "version": "3.11.3"
  }
 },
 "nbformat": 4,
 "nbformat_minor": 2
}
